{
 "cells": [
  {
   "cell_type": "code",
   "execution_count": 1,
   "metadata": {},
   "outputs": [],
   "source": [
    "import numpy as np\n",
    "import pandas as pd\n",
    "import matplotlib.pyplot as plt"
   ]
  },
  {
   "cell_type": "code",
   "execution_count": 2,
   "metadata": {},
   "outputs": [],
   "source": [
    "data = {\n",
    "    \"X\": [0.0316, 2.1200, 0.8820, -0.0551, 0.8300, 1.1260, 0.3741, 0.4780, 0.5680, -1.0353,\n",
    "          0.2345, 1.4291, 0.1264, 0.8932, 1.2456, -0.2541, 0.7812, -1.3467, 0.9271, 1.1054,\n",
    "          0.5643, 1.2345, -0.6543, 0.7892, 1.3567, -0.4678, 0.2345, 1.0473, -0.4321, 1.1342,\n",
    "          0.5682, -1.1265, 0.5623, 1.2378, -0.4762, 1.0523, 0.8261, -0.3785, 1.2384, 0.4756,\n",
    "          0.8120, 1.3456, -0.4872, 0.9832, -1.1321, 0.5621, 1.0124, 0.3584, -0.5678, 1.1135],\n",
    "    \n",
    "    \"Y\": [0.9870, -0.0462, -0.0758, -0.0373, -0.5390, 0.0341, -0.8214, 0.2254, -0.1023, 0.3421,\n",
    "          -0.4323, 0.2398, -0.9845, 0.2342, -0.1343, -0.4234, -0.8321, 0.4231, -0.2341, 0.4423,\n",
    "          -0.2356, 0.1234, 0.5432, -0.6543, -0.2345, 0.7321, -0.3421, 0.1284, -0.5431, -0.2456,\n",
    "          0.4823, 0.1345, -0.1243, -0.3421, 0.2371, -0.4213, 0.2134, -0.8210, 0.3214, -0.7325,\n",
    "          0.1417, -0.1256, 0.5713, -0.4378, 0.4321, 0.4324, -0.2634, 0.5643, 0.2434, -0.1243],\n",
    "    \n",
    "    \"class\": [0.0, 1.0, 0.0, 1.0, 1.0, 0.0, 1.0, 1.0, 0.0, 1.0,\n",
    "              1.0, 0.0, 1.0, 0.0, 1.0, 0.0, 1.0, 0.0, 1.0, 0.0,\n",
    "              1.0, 0.0, 1.0, 0.0, 1.0, 0.0, 1.0, 0.0, 1.0, 0.0,\n",
    "              1.0, 0.0, 1.0, 0.0, 1.0, 0.0, 1.0, 0.0, 0.0, 1.0,\n",
    "              1.0, 0.0, 1.0, 0.0, 1.0, 0.0, 1.0, 0.0, 1.0, 0.0]\n",
    "}\n"
   ]
  },
  {
   "cell_type": "code",
   "execution_count": 3,
   "metadata": {},
   "outputs": [],
   "source": [
    "df = pd.DataFrame(data)"
   ]
  },
  {
   "cell_type": "code",
   "execution_count": 4,
   "metadata": {},
   "outputs": [
    {
     "data": {
      "text/html": [
       "<div>\n",
       "<style scoped>\n",
       "    .dataframe tbody tr th:only-of-type {\n",
       "        vertical-align: middle;\n",
       "    }\n",
       "\n",
       "    .dataframe tbody tr th {\n",
       "        vertical-align: top;\n",
       "    }\n",
       "\n",
       "    .dataframe thead th {\n",
       "        text-align: right;\n",
       "    }\n",
       "</style>\n",
       "<table border=\"1\" class=\"dataframe\">\n",
       "  <thead>\n",
       "    <tr style=\"text-align: right;\">\n",
       "      <th></th>\n",
       "      <th>X</th>\n",
       "      <th>Y</th>\n",
       "      <th>class</th>\n",
       "    </tr>\n",
       "  </thead>\n",
       "  <tbody>\n",
       "    <tr>\n",
       "      <th>0</th>\n",
       "      <td>0.0316</td>\n",
       "      <td>0.9870</td>\n",
       "      <td>0.0</td>\n",
       "    </tr>\n",
       "    <tr>\n",
       "      <th>1</th>\n",
       "      <td>2.1200</td>\n",
       "      <td>-0.0462</td>\n",
       "      <td>1.0</td>\n",
       "    </tr>\n",
       "    <tr>\n",
       "      <th>2</th>\n",
       "      <td>0.8820</td>\n",
       "      <td>-0.0758</td>\n",
       "      <td>0.0</td>\n",
       "    </tr>\n",
       "    <tr>\n",
       "      <th>3</th>\n",
       "      <td>-0.0551</td>\n",
       "      <td>-0.0373</td>\n",
       "      <td>1.0</td>\n",
       "    </tr>\n",
       "    <tr>\n",
       "      <th>4</th>\n",
       "      <td>0.8300</td>\n",
       "      <td>-0.5390</td>\n",
       "      <td>1.0</td>\n",
       "    </tr>\n",
       "  </tbody>\n",
       "</table>\n",
       "</div>"
      ],
      "text/plain": [
       "        X       Y  class\n",
       "0  0.0316  0.9870    0.0\n",
       "1  2.1200 -0.0462    1.0\n",
       "2  0.8820 -0.0758    0.0\n",
       "3 -0.0551 -0.0373    1.0\n",
       "4  0.8300 -0.5390    1.0"
      ]
     },
     "execution_count": 4,
     "metadata": {},
     "output_type": "execute_result"
    }
   ],
   "source": [
    "df.head()"
   ]
  },
  {
   "cell_type": "code",
   "execution_count": 5,
   "metadata": {},
   "outputs": [
    {
     "data": {
      "text/plain": [
       "<matplotlib.collections.PathCollection at 0x168b20a6b10>"
      ]
     },
     "execution_count": 5,
     "metadata": {},
     "output_type": "execute_result"
    },
    {
     "data": {
      "image/png": "[encoded data removed]",
      "text/plain": [
       "<Figure size 640x480 with 1 Axes>"
      ]
     },
     "metadata": {},
     "output_type": "display_data"
    }
   ],
   "source": [
    "plt.scatter(df['X'],df['Y'],c=df['class'])"
   ]
  },
  {
   "cell_type": "code",
   "execution_count": 8,
   "metadata": {},
   "outputs": [],
   "source": [
    "X = df.iloc[:,0:2].values\n",
    "y = df.iloc[:,-1].values"
   ]
  },
  {
   "cell_type": "code",
   "execution_count": 9,
   "metadata": {},
   "outputs": [],
   "source": [
    "import tensorflow\n",
    "from tensorflow import keras\n",
    "from keras import Sequential\n",
    "from keras.layers import Dense"
   ]
  },
  {
   "cell_type": "code",
   "execution_count": 10,
   "metadata": {},
   "outputs": [
    {
     "name": "stderr",
     "output_type": "stream",
     "text": [
      "c:\\Users\\ACER\\anaconda3\\Lib\\site-packages\\keras\\src\\layers\\core\\dense.py:87: UserWarning: Do not pass an `input_shape`/`input_dim` argument to a layer. When using Sequential models, prefer using an `Input(shape)` object as the first layer in the model instead.\n",
      "  super().__init__(activity_regularizer=activity_regularizer, **kwargs)\n"
     ]
    },
    {
     "data": {
      "text/html": [
       "<pre style=\"white-space:pre;overflow-x:auto;line-height:normal;font-family:Menlo,'DejaVu Sans Mono',consolas,'Courier New',monospace\"><span style=\"font-weight: bold\">Model: \"sequential\"</span>\n",
       "</pre>\n"
      ],
      "text/plain": [
       "\u001b[1mModel: \"sequential\"\u001b[0m\n"
      ]
     },
     "metadata": {},
     "output_type": "display_data"
    },
    {
     "data": {
      "text/html": [
       "<pre style=\"white-space:pre;overflow-x:auto;line-height:normal;font-family:Menlo,'DejaVu Sans Mono',consolas,'Courier New',monospace\">┏━━━━━━━━━━━━━━━━━━━━━━━━━━━━━━━━━┳━━━━━━━━━━━━━━━━━━━━━━━━┳━━━━━━━━━━━━━━━┓\n",
       "┃<span style=\"font-weight: bold\"> Layer (type)                    </span>┃<span style=\"font-weight: bold\"> Output Shape           </span>┃<span style=\"font-weight: bold\">       Param # </span>┃\n",
       "┡━━━━━━━━━━━━━━━━━━━━━━━━━━━━━━━━━╇━━━━━━━━━━━━━━━━━━━━━━━━╇━━━━━━━━━━━━━━━┩\n",
       "│ dense (<span style=\"color: #0087ff; text-decoration-color: #0087ff\">Dense</span>)                   │ (<span style=\"color: #00d7ff; text-decoration-color: #00d7ff\">None</span>, <span style=\"color: #00af00; text-decoration-color: #00af00\">10</span>)             │            <span style=\"color: #00af00; text-decoration-color: #00af00\">30</span> │\n",
       "├─────────────────────────────────┼────────────────────────┼───────────────┤\n",
       "│ dense_1 (<span style=\"color: #0087ff; text-decoration-color: #0087ff\">Dense</span>)                 │ (<span style=\"color: #00d7ff; text-decoration-color: #00d7ff\">None</span>, <span style=\"color: #00af00; text-decoration-color: #00af00\">10</span>)             │           <span style=\"color: #00af00; text-decoration-color: #00af00\">110</span> │\n",
       "├─────────────────────────────────┼────────────────────────┼───────────────┤\n",
       "│ dense_2 (<span style=\"color: #0087ff; text-decoration-color: #0087ff\">Dense</span>)                 │ (<span style=\"color: #00d7ff; text-decoration-color: #00d7ff\">None</span>, <span style=\"color: #00af00; text-decoration-color: #00af00\">10</span>)             │           <span style=\"color: #00af00; text-decoration-color: #00af00\">110</span> │\n",
       "├─────────────────────────────────┼────────────────────────┼───────────────┤\n",
       "│ dense_3 (<span style=\"color: #0087ff; text-decoration-color: #0087ff\">Dense</span>)                 │ (<span style=\"color: #00d7ff; text-decoration-color: #00d7ff\">None</span>, <span style=\"color: #00af00; text-decoration-color: #00af00\">10</span>)             │           <span style=\"color: #00af00; text-decoration-color: #00af00\">110</span> │\n",
       "├─────────────────────────────────┼────────────────────────┼───────────────┤\n",
       "│ dense_4 (<span style=\"color: #0087ff; text-decoration-color: #0087ff\">Dense</span>)                 │ (<span style=\"color: #00d7ff; text-decoration-color: #00d7ff\">None</span>, <span style=\"color: #00af00; text-decoration-color: #00af00\">1</span>)              │            <span style=\"color: #00af00; text-decoration-color: #00af00\">11</span> │\n",
       "└─────────────────────────────────┴────────────────────────┴───────────────┘\n",
       "</pre>\n"
      ],
      "text/plain": [
       "┏━━━━━━━━━━━━━━━━━━━━━━━━━━━━━━━━━┳━━━━━━━━━━━━━━━━━━━━━━━━┳━━━━━━━━━━━━━━━┓\n",
       "┃\u001b[1m \u001b[0m\u001b[1mLayer (type)                   \u001b[0m\u001b[1m \u001b[0m┃\u001b[1m \u001b[0m\u001b[1mOutput Shape          \u001b[0m\u001b[1m \u001b[0m┃\u001b[1m \u001b[0m\u001b[1m      Param #\u001b[0m\u001b[1m \u001b[0m┃\n",
       "┡━━━━━━━━━━━━━━━━━━━━━━━━━━━━━━━━━╇━━━━━━━━━━━━━━━━━━━━━━━━╇━━━━━━━━━━━━━━━┩\n",
       "│ dense (\u001b[38;5;33mDense\u001b[0m)                   │ (\u001b[38;5;45mNone\u001b[0m, \u001b[38;5;34m10\u001b[0m)             │            \u001b[38;5;34m30\u001b[0m │\n",
       "├─────────────────────────────────┼────────────────────────┼───────────────┤\n",
       "│ dense_1 (\u001b[38;5;33mDense\u001b[0m)                 │ (\u001b[38;5;45mNone\u001b[0m, \u001b[38;5;34m10\u001b[0m)             │           \u001b[38;5;34m110\u001b[0m │\n",
       "├─────────────────────────────────┼────────────────────────┼───────────────┤\n",
       "│ dense_2 (\u001b[38;5;33mDense\u001b[0m)                 │ (\u001b[38;5;45mNone\u001b[0m, \u001b[38;5;34m10\u001b[0m)             │           \u001b[38;5;34m110\u001b[0m │\n",
       "├─────────────────────────────────┼────────────────────────┼───────────────┤\n",
       "│ dense_3 (\u001b[38;5;33mDense\u001b[0m)                 │ (\u001b[38;5;45mNone\u001b[0m, \u001b[38;5;34m10\u001b[0m)             │           \u001b[38;5;34m110\u001b[0m │\n",
       "├─────────────────────────────────┼────────────────────────┼───────────────┤\n",
       "│ dense_4 (\u001b[38;5;33mDense\u001b[0m)                 │ (\u001b[38;5;45mNone\u001b[0m, \u001b[38;5;34m1\u001b[0m)              │            \u001b[38;5;34m11\u001b[0m │\n",
       "└─────────────────────────────────┴────────────────────────┴───────────────┘\n"
      ]
     },
     "metadata": {},
     "output_type": "display_data"
    },
    {
     "data": {
      "text/html": [
       "<pre style=\"white-space:pre;overflow-x:auto;line-height:normal;font-family:Menlo,'DejaVu Sans Mono',consolas,'Courier New',monospace\"><span style=\"font-weight: bold\"> Total params: </span><span style=\"color: #00af00; text-decoration-color: #00af00\">371</span> (1.45 KB)\n",
       "</pre>\n"
      ],
      "text/plain": [
       "\u001b[1m Total params: \u001b[0m\u001b[38;5;34m371\u001b[0m (1.45 KB)\n"
      ]
     },
     "metadata": {},
     "output_type": "display_data"
    },
    {
     "data": {
      "text/html": [
       "<pre style=\"white-space:pre;overflow-x:auto;line-height:normal;font-family:Menlo,'DejaVu Sans Mono',consolas,'Courier New',monospace\"><span style=\"font-weight: bold\"> Trainable params: </span><span style=\"color: #00af00; text-decoration-color: #00af00\">371</span> (1.45 KB)\n",
       "</pre>\n"
      ],
      "text/plain": [
       "\u001b[1m Trainable params: \u001b[0m\u001b[38;5;34m371\u001b[0m (1.45 KB)\n"
      ]
     },
     "metadata": {},
     "output_type": "display_data"
    },
    {
     "data": {
      "text/html": [
       "<pre style=\"white-space:pre;overflow-x:auto;line-height:normal;font-family:Menlo,'DejaVu Sans Mono',consolas,'Courier New',monospace\"><span style=\"font-weight: bold\"> Non-trainable params: </span><span style=\"color: #00af00; text-decoration-color: #00af00\">0</span> (0.00 B)\n",
       "</pre>\n"
      ],
      "text/plain": [
       "\u001b[1m Non-trainable params: \u001b[0m\u001b[38;5;34m0\u001b[0m (0.00 B)\n"
      ]
     },
     "metadata": {},
     "output_type": "display_data"
    }
   ],
   "source": [
    "model = Sequential()\n",
    "\n",
    "model.add(Dense(10,activation='relu',input_dim=2,kernel_initializer='he_normal'))\n",
    "model.add(Dense(10,activation='relu',kernel_initializer='he_normal'))\n",
    "model.add(Dense(10,activation='relu',kernel_initializer='he_normal'))\n",
    "model.add(Dense(10,activation='relu',kernel_initializer='he_normal'))\n",
    "model.add(Dense(1,activation='sigmoid'))\n",
    "\n",
    "model.summary()"
   ]
  },
  {
   "cell_type": "code",
   "execution_count": 11,
   "metadata": {},
   "outputs": [
    {
     "data": {
      "text/plain": [
       "[array([[-0.5899518 ,  0.38347772,  0.41507813,  0.04808823,  0.17520441,\n",
       "         -0.07881115,  1.292339  , -0.7703952 ,  0.28040868, -0.92509395],\n",
       "        [ 1.9027925 ,  1.0986087 ,  1.1343658 ,  0.7082966 ,  0.07225867,\n",
       "          0.72799706,  0.00904935, -1.0213413 , -0.28838348,  0.5326127 ]],\n",
       "       dtype=float32),\n",
       " array([0., 0., 0., 0., 0., 0., 0., 0., 0., 0.], dtype=float32),\n",
       " array([[-0.726066  , -0.32078156, -0.01164406,  0.40957192, -1.0158759 ,\n",
       "         -0.8661864 ,  0.00882807,  0.563162  , -0.15909308, -0.7001018 ],\n",
       "        [ 0.7367942 ,  0.63424844,  0.70722765, -0.42132878,  0.09785961,\n",
       "          0.5248297 ,  0.42542344,  0.17320241,  0.358214  , -0.11494362],\n",
       "        [ 0.14058879, -0.56988937, -0.5883535 , -0.77722913, -0.05935133,\n",
       "         -0.30395204,  0.5423428 ,  0.8988336 ,  0.9686926 , -0.1304338 ],\n",
       "        [ 0.6531947 ,  0.01217891,  0.6590665 ,  0.823489  ,  0.5232071 ,\n",
       "         -0.41465074, -0.47981626, -0.07434239,  0.34809914, -0.019078  ],\n",
       "        [ 0.64841473,  0.16786891,  0.40381202,  0.13883318,  0.12059303,\n",
       "         -0.12223873,  0.03457849,  0.75402933, -0.30672655,  0.04069762],\n",
       "        [-0.1929242 ,  0.02353793, -0.11364918,  0.0107551 , -0.11036696,\n",
       "         -0.64564496,  0.03490379, -0.27857578,  0.053772  ,  0.78158313],\n",
       "        [ 0.20238265, -0.43753636, -0.32957172, -0.5126926 , -0.14201193,\n",
       "          0.5878119 , -0.3945024 , -0.5479027 , -0.34102064, -0.16610724],\n",
       "        [ 0.34712544, -0.51273656,  0.37513998,  0.06776778,  0.38168296,\n",
       "          0.08717857, -0.29086027,  0.97930324,  0.8455238 ,  0.6085733 ],\n",
       "        [ 0.1347454 ,  0.10293797, -0.31650066, -0.47895443,  0.7914487 ,\n",
       "          0.2942572 , -0.51918846, -0.1544202 , -0.11309554,  0.8729504 ],\n",
       "        [-0.13620648, -0.49347487, -0.1316257 ,  0.5730526 ,  0.18551145,\n",
       "         -0.28012022,  0.37736028,  0.575987  ,  0.26439565, -0.06978475]],\n",
       "       dtype=float32),\n",
       " array([0., 0., 0., 0., 0., 0., 0., 0., 0., 0.], dtype=float32),\n",
       " array([[-0.7072919 ,  0.88139385,  0.20203762, -0.39775154,  0.34678158,\n",
       "          1.0127496 ,  0.41974083,  0.7950768 ,  0.05134553,  0.3850079 ],\n",
       "        [ 0.03883845, -0.07859375,  0.529095  ,  0.09561201,  0.27352312,\n",
       "          0.41035426, -0.56110954,  0.6488898 ,  0.58304703,  0.43019068],\n",
       "        [-0.15813527, -0.27178553,  0.47470662, -0.19365264, -0.24040218,\n",
       "          0.15665805,  0.6455704 , -0.68940747,  0.3073936 ,  0.6513701 ],\n",
       "        [ 0.36488557,  0.61656785,  0.08545936,  0.11347762, -0.5027414 ,\n",
       "         -0.7176003 , -0.04282527,  0.498413  ,  0.18552256,  0.80259067],\n",
       "        [ 0.85935295,  0.2326603 , -0.5394122 ,  0.45242572,  0.61530495,\n",
       "         -0.15741012, -0.03958029, -0.28056195,  0.0336913 ,  0.04134888],\n",
       "        [ 0.17134964, -0.04354047,  0.07016969,  0.777069  , -0.20843071,\n",
       "         -0.4226017 , -0.23315156, -0.43804   ,  0.21636163,  0.6135951 ],\n",
       "        [ 0.15169714,  0.3521986 ,  0.33499923, -0.40356758, -0.6826676 ,\n",
       "          0.36358616,  0.15683122, -0.19806908, -0.04198857, -0.03766092],\n",
       "        [-0.2682916 , -0.6584685 , -0.4515628 , -0.39318216, -0.08563606,\n",
       "         -0.76094997,  0.12748332, -0.2467102 , -0.7418501 ,  0.62276065],\n",
       "        [ 0.15978521,  0.21481022,  0.54928154,  0.52329844,  0.03831892,\n",
       "          0.02517148,  0.38938352,  0.7049212 ,  0.3018907 , -0.6698562 ],\n",
       "        [-0.9154472 , -0.50839406, -0.15961348,  0.4589067 , -0.38530996,\n",
       "         -0.2939452 ,  0.36962497,  0.3116197 ,  0.88622415, -0.09428484]],\n",
       "       dtype=float32),\n",
       " array([0., 0., 0., 0., 0., 0., 0., 0., 0., 0.], dtype=float32),\n",
       " array([[ 0.03292377,  0.24097778,  0.0113081 , -0.05909954, -0.9950761 ,\n",
       "          0.7281618 , -0.3461584 , -0.17337298,  0.32084277, -0.791125  ],\n",
       "        [-0.57068396,  0.05764774, -0.27522817,  0.42627054,  0.5601464 ,\n",
       "         -0.30779266, -0.7260502 , -0.84848374, -0.17096896, -0.15773456],\n",
       "        [-0.30989605, -0.6861862 ,  0.39750928,  0.5041998 ,  0.22372329,\n",
       "          0.41272366, -0.5374956 ,  0.4310251 , -0.53338623, -0.08342662],\n",
       "        [-0.14549223, -0.8620599 , -0.5251941 , -0.03211527, -0.49661234,\n",
       "         -0.9379666 , -0.4387886 , -0.46937636,  0.8757535 , -0.13693632],\n",
       "        [ 0.3471732 ,  0.4297173 ,  0.06837829, -0.321786  , -0.15635845,\n",
       "          0.2667087 ,  0.08581922,  0.33602962,  0.24975088, -0.07535557],\n",
       "        [-0.7530721 ,  0.74438477,  0.7619743 , -0.13907251, -0.9335223 ,\n",
       "         -0.29185003,  0.201953  ,  0.20074858, -0.71600926, -0.6149095 ],\n",
       "        [ 0.03298141, -0.3902062 , -0.55568874,  0.23344156,  0.2598036 ,\n",
       "          0.12904   , -0.36016992, -0.771161  , -0.3514244 , -0.27668637],\n",
       "        [-0.57631373, -0.09762825, -0.11090394, -0.93884987, -0.77508426,\n",
       "          0.32958364, -0.21006602, -0.00103103, -0.37582025, -0.57137066],\n",
       "        [ 0.5573283 , -0.0610004 ,  0.80002517,  0.33875367,  0.96748364,\n",
       "         -0.01207419,  0.11175788, -0.34267417, -0.2896358 ,  0.4563367 ],\n",
       "        [-0.9336564 ,  0.16023053, -0.46404704,  0.33372456,  0.6704504 ,\n",
       "         -0.09135573,  0.10013463,  0.12247332,  0.52519894,  0.36087456]],\n",
       "       dtype=float32),\n",
       " array([0., 0., 0., 0., 0., 0., 0., 0., 0., 0.], dtype=float32),\n",
       " array([[-0.16832429],\n",
       "        [ 0.51074034],\n",
       "        [-0.01856875],\n",
       "        [ 0.4237854 ],\n",
       "        [ 0.32210988],\n",
       "        [-0.5645382 ],\n",
       "        [-0.5329142 ],\n",
       "        [-0.11244023],\n",
       "        [ 0.7211624 ],\n",
       "        [-0.28279302]], dtype=float32),\n",
       " array([0.], dtype=float32)]"
      ]
     },
     "execution_count": 11,
     "metadata": {},
     "output_type": "execute_result"
    }
   ],
   "source": [
    "model.get_weights()"
   ]
  },
  {
   "cell_type": "code",
   "execution_count": 12,
   "metadata": {},
   "outputs": [],
   "source": [
    "initial_weights = model.get_weights()"
   ]
  },
  {
   "cell_type": "code",
   "execution_count": 13,
   "metadata": {},
   "outputs": [],
   "source": [
    "initial_weights[0] = np.random.randn(2,10)*np.sqrt(1/2)\n",
    "initial_weights[1] = np.zeros(model.get_weights()[1].shape)\n",
    "initial_weights[2] = np.random.randn(10,10)*np.sqrt(1/10)\n",
    "initial_weights[3] = np.zeros(model.get_weights()[3].shape)\n",
    "initial_weights[4] = np.random.randn(10,10)*np.sqrt(1/10)\n",
    "initial_weights[5] = np.zeros(model.get_weights()[5].shape)\n",
    "initial_weights[6] = np.random.randn(10,10)*np.sqrt(1/10)\n",
    "initial_weights[7] = np.zeros(model.get_weights()[7].shape)\n",
    "initial_weights[8] = np.random.randn(10,1)*np.sqrt(1/10)\n",
    "initial_weights[9] = np.zeros(model.get_weights()[9].shape)"
   ]
  },
  {
   "cell_type": "code",
   "execution_count": 14,
   "metadata": {},
   "outputs": [],
   "source": [
    "model.set_weights(initial_weights)"
   ]
  },
  {
   "cell_type": "code",
   "execution_count": 15,
   "metadata": {},
   "outputs": [
    {
     "data": {
      "text/plain": [
       "[array([[ 0.16839625,  1.9461467 , -0.27856392, -0.7988353 , -0.59966666,\n",
       "          0.14731102,  0.47544113,  0.0361379 ,  0.19718155, -0.7467737 ],\n",
       "        [ 0.16088699, -0.51249295, -0.28924698, -0.18959673, -1.4211516 ,\n",
       "          0.8674684 , -1.4739815 ,  0.39991376, -1.1327306 ,  0.10004274]],\n",
       "       dtype=float32),\n",
       " array([0., 0., 0., 0., 0., 0., 0., 0., 0., 0.], dtype=float32),\n",
       " array([[ 6.8048172e-02, -6.9615759e-02, -1.1610126e-01,  7.9285339e-02,\n",
       "         -5.3093362e-01,  1.5676239e-01,  1.7413299e-01,  1.9126942e-02,\n",
       "          2.5209064e-02,  6.1298866e-02],\n",
       "        [-1.5080620e-01,  5.0180131e-01, -2.9947844e-01,  4.3585360e-01,\n",
       "         -3.1280506e-01, -3.5199162e-01, -1.9965844e-01, -4.4218686e-01,\n",
       "         -3.3814844e-01,  3.5968819e-01],\n",
       "        [ 1.5918401e-01, -1.3192232e-01, -2.0793645e-01,  3.6579925e-01,\n",
       "         -2.9234555e-01,  4.9884882e-02,  3.9458722e-01,  4.3701414e-02,\n",
       "          3.4463781e-01, -6.5266114e-01],\n",
       "        [ 3.5759297e-01,  6.8662614e-01,  2.6921532e-01,  2.4300131e-01,\n",
       "          5.5470812e-01, -1.0277618e-01, -5.3382999e-01,  2.5878878e-02,\n",
       "         -5.8863509e-02,  2.8388092e-01],\n",
       "        [ 2.3162976e-02,  2.1060193e-01,  3.1117734e-01, -8.7568767e-02,\n",
       "         -1.4028734e-01, -3.8333932e-01,  3.4278914e-01,  6.0924268e-03,\n",
       "         -6.2480849e-01, -2.9896975e-01],\n",
       "        [-3.7223548e-01,  2.7481436e-03, -5.2179122e-01,  1.9480838e-01,\n",
       "         -2.5378536e-02,  1.3047774e-01, -5.4564429e-03, -1.1405337e-01,\n",
       "          1.2699589e-02, -4.0797257e-01],\n",
       "        [-6.4519256e-01,  2.8498876e-01, -4.6758432e-02, -5.3684566e-02,\n",
       "          6.1341166e-01, -5.3118575e-01,  2.7797648e-01,  2.2741541e-01,\n",
       "         -5.0787803e-02, -1.8325239e-01],\n",
       "        [-2.4033961e-01, -7.9157427e-02, -2.3283854e-01, -5.7126299e-02,\n",
       "         -9.7515568e-02,  3.6636689e-01, -3.7177876e-01,  1.3059936e-01,\n",
       "         -2.2643153e-01,  2.2577530e-01],\n",
       "        [-2.5326398e-01,  2.7127457e-01, -8.8244259e-02,  2.9729426e-01,\n",
       "         -4.3108350e-01, -3.8274622e-01, -7.1728057e-01,  9.7347656e-03,\n",
       "         -6.7393279e-01,  1.7675458e-01],\n",
       "        [ 1.7103305e-01, -1.1047970e-01, -3.1666094e-01,  7.6959446e-02,\n",
       "          4.6820691e-01, -3.3382782e-01,  9.0377361e-02,  5.2485573e-01,\n",
       "         -4.7573054e-04,  5.7092793e-03]], dtype=float32),\n",
       " array([0., 0., 0., 0., 0., 0., 0., 0., 0., 0.], dtype=float32),\n",
       " array([[-0.04991183, -0.15649189,  0.07636739,  0.5044921 ,  0.21413846,\n",
       "          0.42478243,  0.4696748 ,  0.03790204, -0.24710594, -0.05192413],\n",
       "        [ 0.45892382,  0.19050638, -0.02830397, -0.2715    ,  0.07005573,\n",
       "          0.16702631, -0.10499194, -0.8546523 , -0.1385536 , -0.25275722],\n",
       "        [ 0.23018973, -0.11354312, -0.29297087, -0.27796105,  0.796529  ,\n",
       "         -0.05818283,  0.66917825,  0.12266649,  0.04224047, -0.14775917],\n",
       "        [ 0.04775703,  0.21105522, -0.02429147, -0.07518814, -0.04396302,\n",
       "          0.05388089, -0.03740302, -0.12969242,  0.09367966,  0.0781057 ],\n",
       "        [ 0.25856093,  0.4108782 , -0.49454132, -0.2671419 ,  0.20296936,\n",
       "         -0.08449474, -0.04643829,  0.04025527,  0.15626507,  0.30897114],\n",
       "        [ 0.32894248, -0.24237232, -0.45376354,  0.28173396, -0.57965505,\n",
       "          0.37444854,  0.21497156, -0.3505171 ,  0.42447937, -0.38692462],\n",
       "        [ 1.1263658 , -0.0219294 ,  0.19450445, -0.1343425 , -0.43266833,\n",
       "         -0.5554315 ,  0.24168192, -0.07579134,  0.3998487 ,  0.17225344],\n",
       "        [-0.18521118,  0.06454856,  0.1499314 , -0.13811597, -0.385802  ,\n",
       "         -0.06144587, -0.48936146,  0.37529185,  0.23364729, -0.33763984],\n",
       "        [-0.6327694 ,  0.08544233,  0.04895754, -0.5099097 , -0.19458008,\n",
       "         -0.3716845 , -0.1849992 , -0.07850651, -0.17248707, -0.20600666],\n",
       "        [ 0.24620076,  0.7216061 ,  0.00748804, -0.0217391 , -0.10416929,\n",
       "         -0.23834412, -0.11045104, -0.10416237,  0.58171815, -0.2218563 ]],\n",
       "       dtype=float32),\n",
       " array([0., 0., 0., 0., 0., 0., 0., 0., 0., 0.], dtype=float32),\n",
       " array([[-0.08861138,  0.06906941,  0.1883897 , -0.13203676, -0.15330783,\n",
       "          0.25994143,  0.19605902, -0.02071056, -0.17849076,  0.14495291],\n",
       "        [-0.58253783, -0.39537388, -0.19111376,  0.08693489, -0.12580624,\n",
       "         -0.06334733,  0.17454974, -0.69627374,  0.09752382,  0.19383721],\n",
       "        [-0.15530232,  0.3335802 ,  0.5643723 , -0.2487989 , -0.00669168,\n",
       "         -0.6115348 ,  0.0547042 , -0.30396357,  0.12368584,  0.6456324 ],\n",
       "        [ 0.67919624, -0.11559994,  0.1970345 , -0.06670292, -0.1848834 ,\n",
       "         -0.47733492,  0.12042017, -0.03059717, -0.26665857, -0.6450314 ],\n",
       "        [-0.3667712 ,  0.35184258, -0.06453428, -0.14294603, -0.354632  ,\n",
       "         -0.02077641, -0.2922818 ,  0.4913882 , -0.08754306,  0.00099338],\n",
       "        [ 0.10621987, -0.02518418, -0.8710572 ,  0.09065454,  0.48994595,\n",
       "         -0.19585998,  0.15806325,  0.4276635 ,  0.4954658 ,  0.02470869],\n",
       "        [ 0.1704274 , -0.27753544,  0.26291564, -0.31789497, -0.2849371 ,\n",
       "         -0.06632409,  0.01876459,  0.21214443,  0.16674927,  0.0057263 ],\n",
       "        [-0.10174309, -0.26589584,  0.50577015, -0.29401964, -0.49475724,\n",
       "          0.5117715 ,  0.15656464, -0.47309065,  0.09515282,  0.01930436],\n",
       "        [-0.16641228,  0.3332982 ,  0.47089934, -0.285853  ,  0.25131395,\n",
       "          0.36244938, -0.0788226 , -0.50847876, -0.16754012, -0.19375433],\n",
       "        [ 0.44093174, -0.0139076 , -0.42147186, -0.35623997,  0.2154753 ,\n",
       "          0.05293882,  0.09335972,  0.58535284, -0.08052834, -0.03215847]],\n",
       "       dtype=float32),\n",
       " array([0., 0., 0., 0., 0., 0., 0., 0., 0., 0.], dtype=float32),\n",
       " array([[-0.6747443 ],\n",
       "        [ 0.33950755],\n",
       "        [-0.7352934 ],\n",
       "        [ 0.5192845 ],\n",
       "        [-0.2802441 ],\n",
       "        [-0.07969619],\n",
       "        [-0.22230464],\n",
       "        [-0.11324172],\n",
       "        [ 0.06068012],\n",
       "        [ 0.20188576]], dtype=float32),\n",
       " array([0.], dtype=float32)]"
      ]
     },
     "execution_count": 15,
     "metadata": {},
     "output_type": "execute_result"
    }
   ],
   "source": [
    "model.get_weights()"
   ]
  },
  {
   "cell_type": "code",
   "execution_count": 16,
   "metadata": {},
   "outputs": [],
   "source": [
    "model.compile(loss='binary_crossentropy',optimizer='adam',metrics=['accuracy'])"
   ]
  },
  {
   "cell_type": "code",
   "execution_count": 17,
   "metadata": {},
   "outputs": [],
   "source": [
    "history = model.fit(X,y,epochs=100,validation_split=0.2,verbose=False)"
   ]
  },
  {
   "cell_type": "code",
   "execution_count": 18,
   "metadata": {},
   "outputs": [
    {
     "data": {
      "text/plain": [
       "[array([[ 2.3452537e-01,  2.0149627e+00, -3.3787662e-01, -7.8709823e-01,\n",
       "         -5.9621733e-01,  6.1341479e-02,  4.3570006e-01,  7.3657446e-02,\n",
       "          2.2741891e-01, -8.2191885e-01],\n",
       "        [ 2.7668247e-01, -4.9322402e-01, -3.0148083e-01, -1.7248352e-01,\n",
       "         -1.4692177e+00,  8.5589290e-01, -1.5692163e+00,  5.1651907e-01,\n",
       "         -1.0999013e+00, -3.9220581e-04]], dtype=float32),\n",
       " array([ 0.02328807,  0.07120632,  0.05670694,  0.05919901,  0.03541099,\n",
       "        -0.07655949, -0.00836373,  0.06005466,  0.00386139,  0.01961181],\n",
       "       dtype=float32),\n",
       " array([[-4.36012167e-03, -1.33054718e-01, -1.29689023e-01,\n",
       "          1.54021472e-01, -5.02804875e-01,  2.87244081e-01,\n",
       "          1.08221367e-01,  1.62256315e-01,  2.52090637e-02,\n",
       "          1.38494566e-01],\n",
       "        [-1.50806203e-01,  4.88013238e-01, -2.99478441e-01,\n",
       "          4.80640382e-01, -2.34254643e-01, -4.19424355e-01,\n",
       "         -3.21159393e-01, -6.06076121e-01, -3.38148445e-01,\n",
       "          3.96915704e-01],\n",
       "        [ 2.39317521e-01, -9.61396322e-02, -2.12477192e-01,\n",
       "          4.62968856e-01, -2.48964533e-01, -7.18997940e-02,\n",
       "          4.17566985e-01,  9.03574750e-02,  3.44637811e-01,\n",
       "         -7.97197521e-01],\n",
       "        [ 4.13874388e-01,  6.75958753e-01,  2.63231695e-01,\n",
       "          3.19031805e-01,  5.75873137e-01, -1.21831357e-01,\n",
       "         -5.10741889e-01,  5.32041080e-02, -5.88635094e-02,\n",
       "          2.23318487e-01],\n",
       "        [-6.78625423e-03,  2.57617742e-01,  3.03991556e-01,\n",
       "         -1.23500023e-02, -7.50121996e-02, -3.83339316e-01,\n",
       "          3.67645323e-01,  5.64628765e-02, -6.24808490e-01,\n",
       "         -3.84919554e-01],\n",
       "        [-3.53763580e-01, -9.06366780e-02, -5.21791220e-01,\n",
       "          2.72638381e-01,  5.06333597e-02,  2.44743884e-01,\n",
       "         -5.45644294e-03, -1.11020841e-01,  1.26995891e-02,\n",
       "         -2.98486441e-01],\n",
       "        [-5.82876027e-01,  3.46436113e-01, -5.90125658e-02,\n",
       "         -5.92046715e-02,  7.02857077e-01, -5.31185746e-01,\n",
       "          3.04829359e-01,  2.37642676e-01, -5.07878028e-02,\n",
       "         -2.19862804e-01],\n",
       "        [-2.14668676e-01, -1.76158652e-01, -2.57056445e-01,\n",
       "          2.64881402e-02,  5.95489284e-04,  4.79105204e-01,\n",
       "         -4.64089513e-01,  1.20961204e-01, -2.26431534e-01,\n",
       "          3.43553185e-01],\n",
       "        [-1.91723183e-01,  3.48382622e-01, -9.77101028e-02,\n",
       "          2.92522758e-01, -3.43512565e-01, -3.82746220e-01,\n",
       "         -6.91309273e-01,  2.05094926e-02, -6.73932791e-01,\n",
       "          1.21522836e-01],\n",
       "        [ 2.17989147e-01, -1.34685487e-01, -3.22557747e-01,\n",
       "          1.34124309e-01,  4.84665185e-01, -3.32186937e-01,\n",
       "          1.01501606e-01,  5.46221614e-01, -4.75730543e-04,\n",
       "         -4.90982980e-02]], dtype=float32),\n",
       " array([ 0.06573522,  0.04097839, -0.00057009,  0.05002117,  0.11087863,\n",
       "         0.0689454 , -0.00479201, -0.03336041,  0.        ,  0.01708475],\n",
       "       dtype=float32),\n",
       " array([[-0.14899807, -0.14131056,  0.07636739,  0.40409672,  0.15051757,\n",
       "          0.55311084,  0.37024978,  0.03790204, -0.23397276,  0.05720419],\n",
       "        [ 0.47428593,  0.18307596, -0.02830397, -0.36249632,  0.11810416,\n",
       "          0.18085054, -0.19232622, -0.8546523 , -0.11528224, -0.20193993],\n",
       "        [ 0.28549615, -0.16264713, -0.29297087, -0.30553737,  0.74042964,\n",
       "         -0.08516642,  0.6742204 ,  0.12266649,  0.09476785, -0.1929645 ],\n",
       "        [ 0.08582681,  0.179565  , -0.02429147,  0.04326048, -0.02850715,\n",
       "          0.05047613,  0.0773968 , -0.12969242,  0.14132512,  0.09920333],\n",
       "        [ 0.2786988 ,  0.4042255 , -0.49454132, -0.37240693,  0.20889796,\n",
       "         -0.04845388, -0.14986037,  0.04025527,  0.18525872,  0.3404396 ],\n",
       "        [ 0.4965686 , -0.37766454, -0.45376354,  0.42192662, -0.43898392,\n",
       "          0.22160503,  0.35482484, -0.3505171 ,  0.59387946, -0.49533948],\n",
       "        [ 1.2037652 , -0.08085418,  0.19450445, -0.17388761, -0.49060044,\n",
       "         -0.5856909 ,  0.19664642, -0.07579134,  0.469266  ,  0.15742163],\n",
       "        [-0.14369802,  0.0111652 ,  0.1499314 , -0.22095023, -0.43293047,\n",
       "         -0.06226091, -0.5708437 ,  0.37529185,  0.29840904, -0.31365412],\n",
       "        [-0.6327694 ,  0.08544233,  0.04895754, -0.5099097 , -0.19458008,\n",
       "         -0.3716845 , -0.1849992 , -0.07850651, -0.17248707, -0.20600666],\n",
       "        [ 0.29606602,  0.6653906 ,  0.00748804, -0.00589342, -0.15212521,\n",
       "         -0.25723866, -0.0951357 , -0.10416237,  0.6401802 , -0.30150592]],\n",
       "       dtype=float32),\n",
       " array([ 0.03979123,  0.02525428,  0.        ,  0.06536471,  0.10503258,\n",
       "        -0.0122757 ,  0.06527855,  0.        ,  0.03165787,  0.02942816],\n",
       "       dtype=float32),\n",
       " array([[ 0.04326214,  0.02458572,  0.24195144, -0.13203676, -0.07185294,\n",
       "          0.22095932,  0.15007704, -0.06718873, -0.05224064,  0.20848733],\n",
       "        [-0.63924164, -0.43378162, -0.14228836,  0.08693489, -0.06059104,\n",
       "         -0.06898338,  0.16691901, -0.7464773 ,  0.17361252,  0.21069072],\n",
       "        [-0.15530232,  0.3335802 ,  0.5643723 , -0.2487989 , -0.00669168,\n",
       "         -0.6115348 ,  0.0547042 , -0.30396357,  0.12368584,  0.6456324 ],\n",
       "        [ 0.8238905 , -0.13652144,  0.34000966, -0.06670292, -0.03620314,\n",
       "         -0.45125827,  0.26113886, -0.05192849, -0.42458504, -0.5804935 ],\n",
       "        [-0.4243354 ,  0.35184258, -0.10886294, -0.14294603, -0.39066935,\n",
       "         -0.17125827, -0.45626074,  0.43997216,  0.1457538 ,  0.2000543 ],\n",
       "        [ 0.22279389, -0.05055327, -0.8662674 ,  0.09065454,  0.57555616,\n",
       "         -0.33042294,  0.04947659,  0.37955683,  0.6644657 ,  0.1696104 ],\n",
       "        [ 0.31114414, -0.298456  ,  0.38778165, -0.31789497, -0.1545887 ,\n",
       "         -0.04005078,  0.16068932,  0.16801849,  0.03985511,  0.15330452],\n",
       "        [-0.10174309, -0.26589584,  0.50577015, -0.29401964, -0.49475724,\n",
       "          0.5117715 ,  0.15656464, -0.47309065,  0.09515282,  0.01930436],\n",
       "        [-0.02875302,  0.29008427,  0.5570413 , -0.285853  ,  0.37623942,\n",
       "          0.42872328,  0.00248274, -0.55868703, -0.25604966, -0.26021567],\n",
       "        [ 0.38207912, -0.05133304, -0.5595231 , -0.35623997,  0.09961705,\n",
       "         -0.09357751,  0.02230606,  0.53868574,  0.04770043,  0.10087804]],\n",
       "       dtype=float32),\n",
       " array([ 0.08269227, -0.03475944,  0.05419128,  0.        ,  0.03051172,\n",
       "        -0.0573775 , -0.05321558, -0.03096218,  0.15854892,  0.10731075],\n",
       "       dtype=float32),\n",
       " array([[-0.8295335 ],\n",
       "        [ 0.3212946 ],\n",
       "        [-0.8612269 ],\n",
       "        [ 0.5192845 ],\n",
       "        [-0.44110984],\n",
       "        [-0.11821347],\n",
       "        [-0.21313085],\n",
       "        [-0.08301118],\n",
       "        [ 0.26910484],\n",
       "        [ 0.29154405]], dtype=float32),\n",
       " array([0.08650253], dtype=float32)]"
      ]
     },
     "execution_count": 18,
     "metadata": {},
     "output_type": "execute_result"
    }
   ],
   "source": [
    "model.get_weights()"
   ]
  },
  {
   "cell_type": "code",
   "execution_count": null,
   "metadata": {},
   "outputs": [],
   "source": []
  }
 ],
 "metadata": {
  "kernelspec": {
   "display_name": "base",
   "language": "python",
   "name": "python3"
  },
  "language_info": {
   "codemirror_mode": {
    "name": "ipython",
    "version": 3
   },
   "file_extension": ".py",
   "mimetype": "text/x-python",
   "name": "python",
   "nbconvert_exporter": "python",
   "pygments_lexer": "ipython3",
   "version": "3.11.7"
  }
 },
 "nbformat": 4,
 "nbformat_minor": 2
}
